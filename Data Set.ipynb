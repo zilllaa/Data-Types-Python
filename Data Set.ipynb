{
 "cells": [
  {
   "cell_type": "markdown",
   "id": "d22a301b",
   "metadata": {},
   "source": [
    "# DATA SET"
   ]
  },
  {
   "cell_type": "code",
   "execution_count": 1,
   "id": "3a26d629",
   "metadata": {},
   "outputs": [],
   "source": [
    "a ={3,3,3,4,4,4,5,5,5}"
   ]
  },
  {
   "cell_type": "code",
   "execution_count": 2,
   "id": "3dfb14b0",
   "metadata": {},
   "outputs": [
    {
     "name": "stdout",
     "output_type": "stream",
     "text": [
      "{3, 4, 5}\n"
     ]
    }
   ],
   "source": [
    "print (a)"
   ]
  },
  {
   "cell_type": "code",
   "execution_count": 3,
   "id": "48c21a9a",
   "metadata": {},
   "outputs": [
    {
     "ename": "TypeError",
     "evalue": "'set' object is not subscriptable",
     "output_type": "error",
     "traceback": [
      "\u001b[1;31m---------------------------------------------------------------------------\u001b[0m",
      "\u001b[1;31mTypeError\u001b[0m                                 Traceback (most recent call last)",
      "\u001b[1;32m~\\AppData\\Local\\Temp/ipykernel_16352/3553881395.py\u001b[0m in \u001b[0;36m<module>\u001b[1;34m\u001b[0m\n\u001b[1;32m----> 1\u001b[1;33m \u001b[0mprint\u001b[0m \u001b[1;33m(\u001b[0m\u001b[0ma\u001b[0m\u001b[1;33m[\u001b[0m\u001b[1;36m1\u001b[0m\u001b[1;33m]\u001b[0m\u001b[1;33m)\u001b[0m\u001b[1;33m\u001b[0m\u001b[1;33m\u001b[0m\u001b[0m\n\u001b[0m",
      "\u001b[1;31mTypeError\u001b[0m: 'set' object is not subscriptable"
     ]
    }
   ],
   "source": [
    "print (a[1])"
   ]
  },
  {
   "cell_type": "code",
   "execution_count": 4,
   "id": "978f1bd3",
   "metadata": {},
   "outputs": [],
   "source": [
    "a = {1,2,3}"
   ]
  },
  {
   "cell_type": "code",
   "execution_count": 5,
   "id": "3910724c",
   "metadata": {},
   "outputs": [
    {
     "name": "stdout",
     "output_type": "stream",
     "text": [
      "{1, 2, 3}\n"
     ]
    }
   ],
   "source": [
    "print(a)"
   ]
  },
  {
   "cell_type": "code",
   "execution_count": 6,
   "id": "a65146f5",
   "metadata": {},
   "outputs": [],
   "source": [
    "b = {2,3,4,5}"
   ]
  },
  {
   "cell_type": "code",
   "execution_count": 7,
   "id": "cdaad8ac",
   "metadata": {
    "scrolled": true
   },
   "outputs": [
    {
     "name": "stdout",
     "output_type": "stream",
     "text": [
      "{2, 3, 4, 5}\n"
     ]
    }
   ],
   "source": [
    "print(b)"
   ]
  },
  {
   "cell_type": "code",
   "execution_count": 8,
   "id": "0cf6b45a",
   "metadata": {},
   "outputs": [
    {
     "data": {
      "text/plain": [
       "{1, 2, 3, 4, 5}"
      ]
     },
     "execution_count": 8,
     "metadata": {},
     "output_type": "execute_result"
    }
   ],
   "source": [
    "a.union(b)"
   ]
  },
  {
   "cell_type": "code",
   "execution_count": 9,
   "id": "fa1d6d64",
   "metadata": {},
   "outputs": [
    {
     "data": {
      "text/plain": [
       "{2, 3}"
      ]
     },
     "execution_count": 9,
     "metadata": {},
     "output_type": "execute_result"
    }
   ],
   "source": [
    "a.intersection(b)"
   ]
  },
  {
   "cell_type": "code",
   "execution_count": 12,
   "id": "cf6e7287",
   "metadata": {},
   "outputs": [],
   "source": [
    "x = {85, 100, 90, 95, 80}"
   ]
  },
  {
   "cell_type": "code",
   "execution_count": 13,
   "id": "c982decd",
   "metadata": {},
   "outputs": [
    {
     "name": "stdout",
     "output_type": "stream",
     "text": [
      "{80, 100, 85, 90, 95}\n"
     ]
    }
   ],
   "source": [
    "print(x)"
   ]
  },
  {
   "cell_type": "code",
   "execution_count": 14,
   "id": "1376ce19",
   "metadata": {},
   "outputs": [],
   "source": [
    "y = {80, 85, 70, 100, 75}"
   ]
  },
  {
   "cell_type": "code",
   "execution_count": 15,
   "id": "901712af",
   "metadata": {},
   "outputs": [
    {
     "name": "stdout",
     "output_type": "stream",
     "text": [
      "{80, 100, 85, 70, 75}\n"
     ]
    }
   ],
   "source": [
    "print(y)"
   ]
  },
  {
   "cell_type": "code",
   "execution_count": 16,
   "id": "c8efff95",
   "metadata": {},
   "outputs": [
    {
     "data": {
      "text/plain": [
       "{70, 75, 80, 85, 90, 95, 100}"
      ]
     },
     "execution_count": 16,
     "metadata": {},
     "output_type": "execute_result"
    }
   ],
   "source": [
    "x.union(y)"
   ]
  },
  {
   "cell_type": "markdown",
   "id": "10cd1464",
   "metadata": {},
   "source": [
    "# DICTIONARY"
   ]
  },
  {
   "cell_type": "code",
   "execution_count": 22,
   "id": "a39d91db",
   "metadata": {},
   "outputs": [],
   "source": [
    "a = {\"nama\":\"Nam Do San\", \"usia\":25}"
   ]
  },
  {
   "cell_type": "code",
   "execution_count": 17,
   "id": "b07ebca0",
   "metadata": {},
   "outputs": [
    {
     "data": {
      "text/plain": [
       "{80, 85, 100}"
      ]
     },
     "execution_count": 17,
     "metadata": {},
     "output_type": "execute_result"
    }
   ],
   "source": [
    "x.intersection(y)"
   ]
  },
  {
   "cell_type": "code",
   "execution_count": 23,
   "id": "4c67f259",
   "metadata": {},
   "outputs": [
    {
     "data": {
      "text/plain": [
       "dict"
      ]
     },
     "execution_count": 23,
     "metadata": {},
     "output_type": "execute_result"
    }
   ],
   "source": [
    "type(a)"
   ]
  },
  {
   "cell_type": "code",
   "execution_count": 24,
   "id": "dd1e6dc5",
   "metadata": {},
   "outputs": [
    {
     "data": {
      "text/plain": [
       "'Nam Do San'"
      ]
     },
     "execution_count": 24,
     "metadata": {},
     "output_type": "execute_result"
    }
   ],
   "source": [
    "a[\"nama\"]"
   ]
  },
  {
   "cell_type": "code",
   "execution_count": 25,
   "id": "1b5d899f",
   "metadata": {},
   "outputs": [
    {
     "data": {
      "text/plain": [
       "25"
      ]
     },
     "execution_count": 25,
     "metadata": {},
     "output_type": "execute_result"
    }
   ],
   "source": [
    "a[\"usia\"]"
   ]
  },
  {
   "cell_type": "code",
   "execution_count": 26,
   "id": "f84cbe5c",
   "metadata": {
    "scrolled": false
   },
   "outputs": [
    {
     "ename": "KeyError",
     "evalue": "0",
     "output_type": "error",
     "traceback": [
      "\u001b[1;31m---------------------------------------------------------------------------\u001b[0m",
      "\u001b[1;31mKeyError\u001b[0m                                  Traceback (most recent call last)",
      "\u001b[1;32m~\\AppData\\Local\\Temp/ipykernel_16352/1109539928.py\u001b[0m in \u001b[0;36m<module>\u001b[1;34m\u001b[0m\n\u001b[1;32m----> 1\u001b[1;33m \u001b[0ma\u001b[0m\u001b[1;33m[\u001b[0m\u001b[1;36m0\u001b[0m\u001b[1;33m]\u001b[0m\u001b[1;33m\u001b[0m\u001b[1;33m\u001b[0m\u001b[0m\n\u001b[0m",
      "\u001b[1;31mKeyError\u001b[0m: 0"
     ]
    }
   ],
   "source": [
    "a[0]"
   ]
  },
  {
   "cell_type": "code",
   "execution_count": 32,
   "id": "bd54a1c2",
   "metadata": {},
   "outputs": [],
   "source": [
    "kel3 = {\"kelompok\" : 3, \"nama1\": \"ryan\", \"nama2\" : \"prita\", \"nama3\":\"lita\", \"nama4\":\"diva\", \"nama5\":\"zilla\", \"pathway\":\"data analyst\"}"
   ]
  },
  {
   "cell_type": "code",
   "execution_count": 33,
   "id": "752ce58f",
   "metadata": {},
   "outputs": [
    {
     "data": {
      "text/plain": [
       "'ryan'"
      ]
     },
     "execution_count": 33,
     "metadata": {},
     "output_type": "execute_result"
    }
   ],
   "source": [
    "kel3[\"nama1\"]"
   ]
  },
  {
   "cell_type": "code",
   "execution_count": 34,
   "id": "41d832d7",
   "metadata": {},
   "outputs": [
    {
     "data": {
      "text/plain": [
       "'prita'"
      ]
     },
     "execution_count": 34,
     "metadata": {},
     "output_type": "execute_result"
    }
   ],
   "source": [
    "kel3[\"nama2\"]"
   ]
  },
  {
   "cell_type": "code",
   "execution_count": 37,
   "id": "8420fce1",
   "metadata": {},
   "outputs": [],
   "source": [
    "#memakai list\n",
    "kel3 = {\"kelompok\" : 3, \"nama1\": [\"ryan\", \"prita\", \"lita\", \"diva\", \"zilla\"] , \"pathway\":\"data analyst\"}"
   ]
  },
  {
   "cell_type": "code",
   "execution_count": 38,
   "id": "ffe848e5",
   "metadata": {},
   "outputs": [
    {
     "data": {
      "text/plain": [
       "'lita'"
      ]
     },
     "execution_count": 38,
     "metadata": {},
     "output_type": "execute_result"
    }
   ],
   "source": [
    "kel3[\"nama1\"][2]"
   ]
  },
  {
   "cell_type": "markdown",
   "id": "64f4fff4",
   "metadata": {},
   "source": [
    "# IF"
   ]
  },
  {
   "cell_type": "code",
   "execution_count": 40,
   "id": "2f377af0",
   "metadata": {},
   "outputs": [
    {
     "name": "stdout",
     "output_type": "stream",
     "text": [
      "ya, namaku adalah zilla\n"
     ]
    }
   ],
   "source": [
    "namaku = \"zilla\"\n",
    "\n",
    "if namaku:\n",
    "    print(\"ya, namaku adalah {}\".format(namaku))"
   ]
  },
  {
   "cell_type": "code",
   "execution_count": 41,
   "id": "6f493b75",
   "metadata": {},
   "outputs": [
    {
     "name": "stdout",
     "output_type": "stream",
     "text": [
      "apa kegiatanmu pagi ini? kegiatanku pagi ini adalah belajar python\n"
     ]
    }
   ],
   "source": [
    "kegiatan = \"kegiatanku pagi ini adalah belajar python\"\n",
    "\n",
    "if kegiatan:\n",
    "    print(\"apa kegiatanmu pagi ini? {}\".format(kegiatan))"
   ]
  },
  {
   "cell_type": "code",
   "execution_count": 42,
   "id": "a165b6c0",
   "metadata": {},
   "outputs": [
    {
     "name": "stdout",
     "output_type": "stream",
     "text": [
      "usiaku: 20\n"
     ]
    }
   ],
   "source": [
    "usia = (input(\"usiaku: \"))"
   ]
  },
  {
   "cell_type": "code",
   "execution_count": 43,
   "id": "bd1b5dd5",
   "metadata": {},
   "outputs": [
    {
     "name": "stdout",
     "output_type": "stream",
     "text": [
      "12\n"
     ]
    },
    {
     "data": {
      "text/plain": [
       "12"
      ]
     },
     "execution_count": 43,
     "metadata": {},
     "output_type": "execute_result"
    }
   ],
   "source": [
    "int(input())"
   ]
  },
  {
   "cell_type": "markdown",
   "id": "23d51de4",
   "metadata": {},
   "source": [
    "# IF ELSE"
   ]
  },
  {
   "cell_type": "code",
   "execution_count": 45,
   "id": "03b81746",
   "metadata": {},
   "outputs": [
    {
     "name": "stdout",
     "output_type": "stream",
     "text": [
      "usia Anda: 30\n",
      "sudah punya KTP\n"
     ]
    }
   ],
   "source": [
    "usia = int(input(\"usia Anda: \" ))\n",
    "\n",
    "if usia >=17:\n",
    "    print(\"sudah punya KTP\")\n",
    "else:\n",
    "    print(\"belum punya KTP\")"
   ]
  },
  {
   "cell_type": "code",
   "execution_count": 49,
   "id": "82fb7e48",
   "metadata": {},
   "outputs": [
    {
     "name": "stdout",
     "output_type": "stream",
     "text": [
      "nilai Anda: 80\n",
      "LULUS\n"
     ]
    }
   ],
   "source": [
    "nilai = int(input(\"nilai Anda: \"))\n",
    "\n",
    "if nilai<=75:\n",
    "    print(\"BELUM LULUS\")\n",
    "else: \n",
    "    print(\"LULUS\")"
   ]
  }
 ],
 "metadata": {
  "kernelspec": {
   "display_name": "Python 3 (ipykernel)",
   "language": "python",
   "name": "python3"
  },
  "language_info": {
   "codemirror_mode": {
    "name": "ipython",
    "version": 3
   },
   "file_extension": ".py",
   "mimetype": "text/x-python",
   "name": "python",
   "nbconvert_exporter": "python",
   "pygments_lexer": "ipython3",
   "version": "3.9.7"
  }
 },
 "nbformat": 4,
 "nbformat_minor": 5
}
