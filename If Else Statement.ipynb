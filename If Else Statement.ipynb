{
 "cells": [
  {
   "cell_type": "markdown",
   "id": "6ace9126",
   "metadata": {},
   "source": [
    "# IF"
   ]
  },
  {
   "cell_type": "code",
   "execution_count": 3,
   "id": "922c4bbe",
   "metadata": {},
   "outputs": [
    {
     "name": "stdout",
     "output_type": "stream",
     "text": [
      "ya, namaku adalah zilla\n"
     ]
    }
   ],
   "source": [
    "namaku = \"zilla\"\n",
    "\n",
    "if namaku:\n",
    "    print(\"ya, namaku adalah {}\".format(namaku))"
   ]
  },
  {
   "cell_type": "code",
   "execution_count": 4,
   "id": "a2d35a0e",
   "metadata": {},
   "outputs": [
    {
     "name": "stdout",
     "output_type": "stream",
     "text": [
      "apa kegiatanmu pagi ini? kegiatanku pagi ini adalah belajar python\n"
     ]
    }
   ],
   "source": [
    "kegiatan = \"kegiatanku pagi ini adalah belajar python\"\n",
    "\n",
    "if kegiatan:\n",
    "    print(\"apa kegiatanmu pagi ini? {}\".format(kegiatan))"
   ]
  },
  {
   "cell_type": "markdown",
   "id": "c109546e",
   "metadata": {},
   "source": [
    "# IF ELSE"
   ]
  },
  {
   "cell_type": "code",
   "execution_count": 5,
   "id": "d7d65cd8",
   "metadata": {},
   "outputs": [
    {
     "name": "stdout",
     "output_type": "stream",
     "text": [
      "usiaku: 20\n"
     ]
    }
   ],
   "source": [
    "usia = (input(\"usiaku: \"))"
   ]
  },
  {
   "cell_type": "code",
   "execution_count": 6,
   "id": "f7acb2c7",
   "metadata": {},
   "outputs": [
    {
     "name": "stdout",
     "output_type": "stream",
     "text": [
      "21\n"
     ]
    },
    {
     "data": {
      "text/plain": [
       "21"
      ]
     },
     "execution_count": 6,
     "metadata": {},
     "output_type": "execute_result"
    }
   ],
   "source": [
    "int(input())"
   ]
  },
  {
   "cell_type": "code",
   "execution_count": 7,
   "id": "3ca99d9b",
   "metadata": {},
   "outputs": [
    {
     "name": "stdout",
     "output_type": "stream",
     "text": [
      "usia Anda: 17\n",
      "sudah punya KTP\n"
     ]
    }
   ],
   "source": [
    "usia = int(input(\"usia Anda: \" ))\n",
    "\n",
    "if usia >=17:\n",
    "    print(\"sudah punya KTP\")\n",
    "else:\n",
    "    print(\"belum punya KTP\")"
   ]
  },
  {
   "cell_type": "code",
   "execution_count": 8,
   "id": "cbf4c0e7",
   "metadata": {},
   "outputs": [
    {
     "name": "stdout",
     "output_type": "stream",
     "text": [
      "nilai Anda: 65\n",
      "BELUM LULUS\n"
     ]
    }
   ],
   "source": [
    "nilai = int(input(\"nilai Anda: \"))\n",
    "\n",
    "if nilai<=75:\n",
    "    print(\"BELUM LULUS\")\n",
    "else: \n",
    "    print(\"LULUS\")"
   ]
  },
  {
   "cell_type": "code",
   "execution_count": null,
   "id": "c60748ac",
   "metadata": {},
   "outputs": [],
   "source": []
  }
 ],
 "metadata": {
  "kernelspec": {
   "display_name": "Python 3 (ipykernel)",
   "language": "python",
   "name": "python3"
  },
  "language_info": {
   "codemirror_mode": {
    "name": "ipython",
    "version": 3
   },
   "file_extension": ".py",
   "mimetype": "text/x-python",
   "name": "python",
   "nbconvert_exporter": "python",
   "pygments_lexer": "ipython3",
   "version": "3.9.7"
  }
 },
 "nbformat": 4,
 "nbformat_minor": 5
}
