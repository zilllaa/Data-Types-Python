{
 "cells": [
  {
   "cell_type": "markdown",
   "id": "fae03900",
   "metadata": {},
   "source": [
    "# List"
   ]
  },
  {
   "cell_type": "markdown",
   "id": "667b8ce3",
   "metadata": {},
   "source": [
    "Lists are used to store multiple items in a single variable. List are one of the data types in Python used to store collections of data.\n",
    "\n",
    "Lists are created using square brackets.\n",
    "List items are ordered, changeable, and allow duplicate values.\n",
    "Lists can contain elements with different data types\n",
    "\n",
    "List items are indexed, the first item has index [0], the second item has index [1] etc."
   ]
  },
  {
   "cell_type": "code",
   "execution_count": 1,
   "id": "41efc2c2",
   "metadata": {},
   "outputs": [],
   "source": [
    "a = [5, 6.7 ,\"delapan\", 3+4j]"
   ]
  },
  {
   "cell_type": "code",
   "execution_count": 2,
   "id": "ba8e4d6e",
   "metadata": {},
   "outputs": [
    {
     "data": {
      "text/plain": [
       "5"
      ]
     },
     "execution_count": 2,
     "metadata": {},
     "output_type": "execute_result"
    }
   ],
   "source": [
    "a[0]"
   ]
  },
  {
   "cell_type": "code",
   "execution_count": 7,
   "id": "f6f2d870",
   "metadata": {},
   "outputs": [
    {
     "data": {
      "text/plain": [
       "str"
      ]
     },
     "execution_count": 7,
     "metadata": {},
     "output_type": "execute_result"
    }
   ],
   "source": [
    "type(a[2])"
   ]
  },
  {
   "cell_type": "code",
   "execution_count": 8,
   "id": "3825d072",
   "metadata": {},
   "outputs": [
    {
     "data": {
      "text/plain": [
       "5"
      ]
     },
     "execution_count": 8,
     "metadata": {},
     "output_type": "execute_result"
    }
   ],
   "source": [
    "a[-0]"
   ]
  },
  {
   "cell_type": "code",
   "execution_count": 9,
   "id": "e2c7dfab",
   "metadata": {},
   "outputs": [
    {
     "data": {
      "text/plain": [
       "'delapan'"
      ]
     },
     "execution_count": 9,
     "metadata": {},
     "output_type": "execute_result"
    }
   ],
   "source": [
    "a[-2]"
   ]
  },
  {
   "cell_type": "code",
   "execution_count": 10,
   "id": "0ab9c697",
   "metadata": {},
   "outputs": [
    {
     "data": {
      "text/plain": [
       "[5, 6.7]"
      ]
     },
     "execution_count": 10,
     "metadata": {},
     "output_type": "execute_result"
    }
   ],
   "source": [
    "a[:2]\n",
    "\n",
    "#get the elements that are in the default index which is 0 to 1."
   ]
  },
  {
   "cell_type": "code",
   "execution_count": 11,
   "id": "592999bf",
   "metadata": {},
   "outputs": [
    {
     "data": {
      "text/plain": [
       "[6.7]"
      ]
     },
     "execution_count": 11,
     "metadata": {},
     "output_type": "execute_result"
    }
   ],
   "source": [
    "a[1:2]\n",
    "\n",
    "#retrieves the element at index 1"
   ]
  },
  {
   "cell_type": "markdown",
   "id": "58341396",
   "metadata": {},
   "source": [
    "## List Length"
   ]
  },
  {
   "cell_type": "markdown",
   "id": "7e56d213",
   "metadata": {},
   "source": [
    "To determine how many items a list has, use the len() function:"
   ]
  },
  {
   "cell_type": "code",
   "execution_count": 12,
   "id": "df5fa859",
   "metadata": {},
   "outputs": [
    {
     "data": {
      "text/plain": [
       "4"
      ]
     },
     "execution_count": 12,
     "metadata": {},
     "output_type": "execute_result"
    }
   ],
   "source": [
    "len(a)"
   ]
  },
  {
   "cell_type": "markdown",
   "id": "132cfb00",
   "metadata": {},
   "source": [
    "## Append"
   ]
  },
  {
   "cell_type": "markdown",
   "id": "dbca3bc6",
   "metadata": {},
   "source": [
    "To add an item to the end of the list, use the append() method"
   ]
  },
  {
   "cell_type": "code",
   "execution_count": 3,
   "id": "b5e05a00",
   "metadata": {},
   "outputs": [],
   "source": [
    "b = [0, 1, 2, 3, 4, 5]"
   ]
  },
  {
   "cell_type": "code",
   "execution_count": 4,
   "id": "4be05e1a",
   "metadata": {},
   "outputs": [
    {
     "name": "stdout",
     "output_type": "stream",
     "text": [
      "[0, 1, 2, 3, 4, 5, 6]\n"
     ]
    }
   ],
   "source": [
    "b.append(6)\n",
    "print(b)"
   ]
  },
  {
   "cell_type": "markdown",
   "id": "b67b8f1d",
   "metadata": {},
   "source": [
    "## Delete "
   ]
  },
  {
   "cell_type": "markdown",
   "id": "3beaf1ee",
   "metadata": {},
   "source": [
    "The del keyword also removes the specified index:"
   ]
  },
  {
   "cell_type": "code",
   "execution_count": 5,
   "id": "efa50772",
   "metadata": {},
   "outputs": [
    {
     "name": "stdout",
     "output_type": "stream",
     "text": [
      "[1, 2, 3, 4, 5, 6]\n"
     ]
    }
   ],
   "source": [
    "del b[0]\n",
    "print(b)"
   ]
  },
  {
   "cell_type": "markdown",
   "id": "b0f98b55",
   "metadata": {},
   "source": [
    "We can change element at the current position"
   ]
  },
  {
   "cell_type": "code",
   "execution_count": 6,
   "id": "f5fc92cb",
   "metadata": {},
   "outputs": [
    {
     "name": "stdout",
     "output_type": "stream",
     "text": [
      "[1, 2, 3, 8, 5, 6]\n"
     ]
    }
   ],
   "source": [
    "b[3] = 8\n",
    "print(b)"
   ]
  }
 ],
 "metadata": {
  "kernelspec": {
   "display_name": "Python 3 (ipykernel)",
   "language": "python",
   "name": "python3"
  },
  "language_info": {
   "codemirror_mode": {
    "name": "ipython",
    "version": 3
   },
   "file_extension": ".py",
   "mimetype": "text/x-python",
   "name": "python",
   "nbconvert_exporter": "python",
   "pygments_lexer": "ipython3",
   "version": "3.11.4"
  }
 },
 "nbformat": 4,
 "nbformat_minor": 5
}
