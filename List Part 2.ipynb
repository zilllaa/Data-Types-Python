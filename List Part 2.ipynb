{
 "cells": [
  {
   "cell_type": "markdown",
   "id": "33f3cf80",
   "metadata": {},
   "source": [
    "# Add List Items"
   ]
  },
  {
   "cell_type": "markdown",
   "id": "f7b84605",
   "metadata": {},
   "source": [
    "## Append"
   ]
  },
  {
   "cell_type": "markdown",
   "id": "43d2d223",
   "metadata": {},
   "source": [
    "To add an item to the end of the list, use the append() method"
   ]
  },
  {
   "cell_type": "code",
   "execution_count": 1,
   "id": "0c2a98e7",
   "metadata": {},
   "outputs": [],
   "source": [
    "a = [5, 6, 7, 8, 8,  10, 11, 11, 12, 13]"
   ]
  },
  {
   "cell_type": "code",
   "execution_count": 2,
   "id": "1467f32a",
   "metadata": {},
   "outputs": [
    {
     "name": "stdout",
     "output_type": "stream",
     "text": [
      "[5, 6, 7, 8, 8, 10, 11, 11, 12, 13, 14]\n"
     ]
    }
   ],
   "source": [
    "a.append(14)\n",
    "print(a)"
   ]
  },
  {
   "cell_type": "markdown",
   "id": "9e71d689",
   "metadata": {},
   "source": [
    "## Extend\n"
   ]
  },
  {
   "cell_type": "markdown",
   "id": "2335afe6",
   "metadata": {},
   "source": [
    "To append elements from another list to the current list, use the extend() method.\n",
    "Merges another list to the end "
   ]
  },
  {
   "cell_type": "code",
   "execution_count": 3,
   "id": "a9f3feb3",
   "metadata": {},
   "outputs": [
    {
     "name": "stdout",
     "output_type": "stream",
     "text": [
      "[5, 6, 7, 8, 8, 10, 11, 11, 12, 13, 14, 15, 16]\n"
     ]
    }
   ],
   "source": [
    "a.extend([15,16])\n",
    "print(a)"
   ]
  },
  {
   "cell_type": "markdown",
   "id": "1fcb61fa",
   "metadata": {},
   "source": [
    "## Insert "
   ]
  },
  {
   "cell_type": "markdown",
   "id": "da7ea139",
   "metadata": {},
   "source": [
    "To insert a list item at a specified index, use the insert() method.\n",
    "The insert() method inserts an item at the specified index\n"
   ]
  },
  {
   "cell_type": "code",
   "execution_count": 5,
   "id": "008eb785",
   "metadata": {},
   "outputs": [
    {
     "name": "stdout",
     "output_type": "stream",
     "text": [
      "[5, 6, 7, 8, 8, 10, 11, 11, 11, 12, 13, 14, 15, 16]\n"
     ]
    }
   ],
   "source": [
    "a.insert(7,11)\n",
    "print(a)"
   ]
  },
  {
   "cell_type": "markdown",
   "id": "ba46adb5",
   "metadata": {},
   "source": [
    "# Removes List Items"
   ]
  },
  {
   "cell_type": "markdown",
   "id": "5a1bbd5f",
   "metadata": {},
   "source": [
    "## Remove "
   ]
  },
  {
   "cell_type": "markdown",
   "id": "46511bd2",
   "metadata": {},
   "source": [
    "The remove() method removes the specified item. the remove() method removes the first occurance"
   ]
  },
  {
   "cell_type": "code",
   "execution_count": 7,
   "id": "35de5c29",
   "metadata": {},
   "outputs": [
    {
     "name": "stdout",
     "output_type": "stream",
     "text": [
      "[5, 6, 8, 8, 10, 11, 11, 11, 12, 13, 14, 15, 16]\n"
     ]
    }
   ],
   "source": [
    "a.remove(7)\n",
    "print(a)"
   ]
  },
  {
   "cell_type": "markdown",
   "id": "9beab18c",
   "metadata": {},
   "source": [
    "## Pop "
   ]
  },
  {
   "cell_type": "markdown",
   "id": "b245d8cc",
   "metadata": {},
   "source": [
    "The pop() method removes the specified index.\n",
    "If you do not specify the index, the pop() method removes the last item.\n"
   ]
  },
  {
   "cell_type": "code",
   "execution_count": 8,
   "id": "7deaf680",
   "metadata": {},
   "outputs": [
    {
     "name": "stdout",
     "output_type": "stream",
     "text": [
      "[5, 6, 8, 8, 10, 11, 11, 11, 12, 13, 14, 15]\n"
     ]
    }
   ],
   "source": [
    "a.pop()\n",
    "print(a)"
   ]
  },
  {
   "cell_type": "markdown",
   "id": "b2335b2d",
   "metadata": {},
   "source": [
    "The del keyword also removes the specified index"
   ]
  },
  {
   "cell_type": "code",
   "execution_count": 9,
   "id": "e21ffad2",
   "metadata": {},
   "outputs": [
    {
     "name": "stdout",
     "output_type": "stream",
     "text": [
      "[5, 6, 8, 10, 11, 11, 11, 12, 13, 14, 15]\n"
     ]
    }
   ],
   "source": [
    "del a[2]\n",
    "print(a)"
   ]
  },
  {
   "cell_type": "markdown",
   "id": "b4796010",
   "metadata": {},
   "source": [
    "## Index"
   ]
  },
  {
   "cell_type": "markdown",
   "id": "7a104fd9",
   "metadata": {},
   "source": [
    "The index() method returns the position at the first occurrence of the specified value."
   ]
  },
  {
   "cell_type": "code",
   "execution_count": 10,
   "id": "ac1c9413",
   "metadata": {},
   "outputs": [
    {
     "data": {
      "text/plain": [
       "7"
      ]
     },
     "execution_count": 10,
     "metadata": {},
     "output_type": "execute_result"
    }
   ],
   "source": [
    "a.index(12)"
   ]
  },
  {
   "cell_type": "markdown",
   "id": "8268c9bc",
   "metadata": {},
   "source": [
    "## Count "
   ]
  },
  {
   "cell_type": "markdown",
   "id": "f5e9008e",
   "metadata": {},
   "source": [
    "Count the number of occurrences of an element"
   ]
  },
  {
   "cell_type": "code",
   "execution_count": 12,
   "id": "30a78f04",
   "metadata": {},
   "outputs": [
    {
     "data": {
      "text/plain": [
       "3"
      ]
     },
     "execution_count": 12,
     "metadata": {},
     "output_type": "execute_result"
    }
   ],
   "source": [
    "a.count(11)"
   ]
  },
  {
   "cell_type": "markdown",
   "id": "64430877",
   "metadata": {},
   "source": [
    "# Sort List"
   ]
  },
  {
   "cell_type": "markdown",
   "id": "ba9f6f2f",
   "metadata": {},
   "source": [
    "## Sort"
   ]
  },
  {
   "cell_type": "markdown",
   "id": "936b0d9a",
   "metadata": {},
   "source": [
    "List objects have a sort() method that will sort the list alphanumerically, ascending, by default"
   ]
  },
  {
   "cell_type": "code",
   "execution_count": 15,
   "id": "41a821eb",
   "metadata": {},
   "outputs": [
    {
     "name": "stdout",
     "output_type": "stream",
     "text": [
      "[5, 6, 8, 10, 11, 11, 11, 12, 13, 14, 15]\n"
     ]
    }
   ],
   "source": [
    "a.sort()\n",
    "print(a)"
   ]
  },
  {
   "cell_type": "markdown",
   "id": "5b2eaa44",
   "metadata": {},
   "source": [
    "Sort Descending"
   ]
  },
  {
   "cell_type": "markdown",
   "id": "8dd3e686",
   "metadata": {},
   "source": [
    "\n",
    "To sort descending, use the keyword argument reverse = True\n"
   ]
  },
  {
   "cell_type": "code",
   "execution_count": 17,
   "id": "fe5e4177",
   "metadata": {},
   "outputs": [
    {
     "name": "stdout",
     "output_type": "stream",
     "text": [
      "[15, 14, 13, 12, 11, 11, 11, 10, 8, 6, 5]\n"
     ]
    }
   ],
   "source": [
    "a.sort(reverse=True)\n",
    "print(a)"
   ]
  },
  {
   "cell_type": "markdown",
   "id": "e5e8e0bf",
   "metadata": {},
   "source": [
    "## Reverse "
   ]
  },
  {
   "cell_type": "markdown",
   "id": "e15da543",
   "metadata": {},
   "source": [
    "The reverse() method reverses the current sorting order of the elements."
   ]
  },
  {
   "cell_type": "code",
   "execution_count": 19,
   "id": "2e6ac803",
   "metadata": {},
   "outputs": [
    {
     "name": "stdout",
     "output_type": "stream",
     "text": [
      "[5, 6, 8, 10, 11, 11, 11, 12, 13, 14, 15]\n"
     ]
    }
   ],
   "source": [
    "a.reverse()\n",
    "print(a)"
   ]
  }
 ],
 "metadata": {
  "kernelspec": {
   "display_name": "Python 3 (ipykernel)",
   "language": "python",
   "name": "python3"
  },
  "language_info": {
   "codemirror_mode": {
    "name": "ipython",
    "version": 3
   },
   "file_extension": ".py",
   "mimetype": "text/x-python",
   "name": "python",
   "nbconvert_exporter": "python",
   "pygments_lexer": "ipython3",
   "version": "3.11.4"
  }
 },
 "nbformat": 4,
 "nbformat_minor": 5
}
