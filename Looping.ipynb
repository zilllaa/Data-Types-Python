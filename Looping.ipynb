{
 "cells": [
  {
   "cell_type": "markdown",
   "id": "07d5038c",
   "metadata": {},
   "source": [
    "# Demonstrating Looping in Python Using for and range"
   ]
  },
  {
   "cell_type": "markdown",
   "id": "4b86f791",
   "metadata": {},
   "source": [
    "Looping in Python is a fundamental programming concept that allows you to repeat a block of code multiple times. The for loop, combined with the range() function, is a powerful tool for creating and controlling loops in Python.\n",
    "\n",
    "This project provides a clear demonstration of looping in Python using the for statement and the range function. It covers the basics of how to create loops, iterate through a range of values, and perform actions within each iteration."
   ]
  },
  {
   "cell_type": "markdown",
   "id": "92b020f9",
   "metadata": {},
   "source": [
    "### 1. The 'for' Loop"
   ]
  },
  {
   "cell_type": "markdown",
   "id": "5509fd46",
   "metadata": {},
   "source": [
    "The for loop is used to iterate over a sequence of values, such as a list, tuple, string, or the result of the range() function. \n",
    "\n",
    "Example: "
   ]
  },
  {
   "cell_type": "markdown",
   "id": "3d7d4b33",
   "metadata": {},
   "source": [
    "#### Example of looping over a String"
   ]
  },
  {
   "cell_type": "code",
   "execution_count": 30,
   "id": "383fd66a",
   "metadata": {},
   "outputs": [
    {
     "name": "stdout",
     "output_type": "stream",
     "text": [
      "huruf P\n",
      "huruf y\n",
      "huruf t\n",
      "huruf h\n",
      "huruf o\n",
      "huruf n\n"
     ]
    }
   ],
   "source": [
    "for i in 'Python':\n",
    "    print(\"huruf {}\".format(i))"
   ]
  },
  {
   "cell_type": "markdown",
   "id": "24c6d4c2",
   "metadata": {},
   "source": [
    "A for loop is initiated, which iterates over each character in the string 'Python'.\n",
    "During each iteration of the loop, the i variable takes on the value of the current character in the string, \n",
    "starting with 'P', then 'y', 't', 'h', 'o', and finally 'n'.\n",
    "Inside the loop, the print() function is used to display a message. The message is formatted using the .format() method, \n",
    "where {} serves as a placeholder for the value of i. So, for each iteration, it prints the message \"huruf \" followed by the current character."
   ]
  },
  {
   "cell_type": "markdown",
   "id": "e6058b58",
   "metadata": {},
   "source": [
    "#### Example of looping over a list"
   ]
  },
  {
   "cell_type": "code",
   "execution_count": 31,
   "id": "91a32e39",
   "metadata": {},
   "outputs": [
    {
     "name": "stdout",
     "output_type": "stream",
     "text": [
      "matkul statistika\n",
      "matkul manajemen\n",
      "matkul akuntansi\n"
     ]
    }
   ],
   "source": [
    "# Example of looping over a list\n",
    "matkul = ['statistika', 'manajemen', 'akuntansi']\n",
    "\n",
    "for i in matkul:\n",
    "    print(\"matkul {}\".format(i))"
   ]
  },
  {
   "cell_type": "markdown",
   "id": "299df132",
   "metadata": {},
   "source": [
    "A for loop is initiated, which iterates over each element (string) in the matkul list.\n",
    "During each iteration of the loop, the i variable takes on the value of the current element in the list, starting with \n",
    "'statistika', then 'manajemen', and finally 'akuntansi'.\n",
    "Inside the loop, the print() function is used to display a message. The message is formatted using the .format() method, \n",
    "where {} serves as a placeholder for the value of i. So, for each iteration, it prints the message \"matkul \" followed by \n",
    "the current element (course name)."
   ]
  },
  {
   "cell_type": "markdown",
   "id": "7d7817ea",
   "metadata": {},
   "source": [
    "#### Example of looping over a tuple"
   ]
  },
  {
   "cell_type": "code",
   "execution_count": 32,
   "id": "5cc2a929",
   "metadata": {},
   "outputs": [
    {
     "name": "stdout",
     "output_type": "stream",
     "text": [
      "apple\n",
      "banana\n",
      "cherry\n"
     ]
    }
   ],
   "source": [
    "fruits = (\"apple\", \"banana\", \"cherry\")\n",
    "\n",
    "for fruit in fruits:\n",
    "    print(fruit)"
   ]
  },
  {
   "cell_type": "markdown",
   "id": "94056d18",
   "metadata": {},
   "source": [
    "A for loop is initiated, which iterates over each element (string) in the fruits tuple.\n",
    "During each iteration of the loop, the fruit variable takes on the value of the current element in the tuple, starting with 'apple', then 'banana', and finally 'cherry'.\n",
    "Inside the loop, the print() function is used to display the value of the fruit variable, which is the current fruit name."
   ]
  },
  {
   "cell_type": "markdown",
   "id": "3c965e12",
   "metadata": {},
   "source": [
    "### 2. The 'range' Loop"
   ]
  },
  {
   "cell_type": "markdown",
   "id": "3a7b4235",
   "metadata": {},
   "source": [
    "Looping with range() in Python is a common technique to iterate over a sequence of numbers within a specified range. \n",
    "The range() function generates a sequence of numbers, and you can use it with for loops to control the number of iterations. \n",
    "\n",
    "Using range() with for Loops:\n",
    "The primary use of range() is in for loops to control the number of iterations. We can iterate over the generated sequence of numbers, and the loop variable takes on each value in the sequence during each iteration."
   ]
  },
  {
   "cell_type": "code",
   "execution_count": 33,
   "id": "7ec18160",
   "metadata": {},
   "outputs": [
    {
     "name": "stdout",
     "output_type": "stream",
     "text": [
      "0\n",
      "1\n",
      "2\n",
      "3\n",
      "4\n"
     ]
    }
   ],
   "source": [
    "for i in range(5):\n",
    "    print(i)"
   ]
  },
  {
   "cell_type": "markdown",
   "id": "ccaa9e37",
   "metadata": {},
   "source": [
    "A for loop that is set to iterate over a sequence of numbers generated by the range(5) function. The range(5) function generates a sequence of numbers starting from 0 (the default starting value) and stopping just before 5. So, the sequence produced by range(5) is [0, 1, 2, 3, 4]. During each iteration of the loop, the i variable takes on the value of the current number in the sequence. It starts with i being 0 and then increments by 1 in each iteration. Inside the loop, the print() function is used to display the current value of i."
   ]
  },
  {
   "cell_type": "code",
   "execution_count": 34,
   "id": "545f6c2b",
   "metadata": {},
   "outputs": [
    {
     "name": "stdout",
     "output_type": "stream",
     "text": [
      "2\n",
      "3\n",
      "4\n",
      "5\n",
      "6\n",
      "7\n"
     ]
    }
   ],
   "source": [
    "for i in range(2,8):\n",
    "    print(i)"
   ]
  },
  {
   "cell_type": "markdown",
   "id": "4028301d",
   "metadata": {},
   "source": [
    "A for loop that is set to iterate over a sequence of numbers generated by the range(2, 8) function.\n",
    "The range(2, 8) function generates a sequence of numbers starting from 2 (inclusive) and stopping just before 8 (exclusive). \n",
    "So, the sequence produced by range(2, 8) is [2, 3, 4, 5, 6, 7].\n",
    "During each iteration of the loop, the i variable takes on the value of the current number in the sequence. \n",
    "It starts with i being 2 and then increments by 1 in each iteration.\n",
    "Inside the loop, the print() function is used to display the current value of i."
   ]
  },
  {
   "cell_type": "markdown",
   "id": "194ef7b7",
   "metadata": {},
   "source": [
    "#### Using nested for loops and the range() function in a single statement:"
   ]
  },
  {
   "cell_type": "code",
   "execution_count": 35,
   "id": "927f20a7",
   "metadata": {},
   "outputs": [
    {
     "name": "stdout",
     "output_type": "stream",
     "text": [
      "* * * * \n",
      "* * * \n",
      "* * \n",
      "* \n"
     ]
    }
   ],
   "source": [
    "for row in range(4):\n",
    "    for col in range(4):\n",
    "        if row == 0 and col <= 3:\n",
    "            print(\"*\", end=\" \")\n",
    "        elif row == 1 and col <= 2:\n",
    "            print(\"*\", end=\" \")\n",
    "        elif row == 2 and col <= 1:\n",
    "            print(\"*\", end=\" \")\n",
    "        elif row == 3 and col == 0:\n",
    "            print(\"*\", end=\" \")\n",
    "    print()"
   ]
  },
  {
   "cell_type": "markdown",
   "id": "b06d2714",
   "metadata": {},
   "source": [
    "The pattern generated by this code consists of four rows and four columns of characters. It resembles a right-angled triangle or pyramid with asterisks (*). Each row has a decreasing number of asterisks from left to right. The number of asterisks in each row corresponds to the value of row in the outer loop. The inner loop (for col in range(4)) controls how many asterisks are printed in each row by evaluating the conditions in the if statements. \n",
    "In summary, this code demonstrates nested loops and conditional statements to create a specific pattern of asterisks and spaces, forming a right-angled triangle with decreasing numbers of asterisks in each row. "
   ]
  }
 ],
 "metadata": {
  "kernelspec": {
   "display_name": "Python 3 (ipykernel)",
   "language": "python",
   "name": "python3"
  },
  "language_info": {
   "codemirror_mode": {
    "name": "ipython",
    "version": 3
   },
   "file_extension": ".py",
   "mimetype": "text/x-python",
   "name": "python",
   "nbconvert_exporter": "python",
   "pygments_lexer": "ipython3",
   "version": "3.11.4"
  }
 },
 "nbformat": 4,
 "nbformat_minor": 5
}
