{
 "cells": [
  {
   "cell_type": "markdown",
   "id": "ebb12801",
   "metadata": {},
   "source": [
    "Data Type bawaan yang ada di Python 3:\n",
    "1. Numbers (int, float, complex)\n",
    "2. String\n",
    "3. Boolean"
   ]
  },
  {
   "cell_type": "markdown",
   "id": "587f3080",
   "metadata": {},
   "source": [
    "1. Numbers (int, float, complex)"
   ]
  },
  {
   "cell_type": "code",
   "execution_count": 1,
   "id": "5f97d19c",
   "metadata": {},
   "outputs": [],
   "source": [
    "a = 10"
   ]
  },
  {
   "cell_type": "code",
   "execution_count": 2,
   "id": "ba42d0a3",
   "metadata": {},
   "outputs": [
    {
     "data": {
      "text/plain": [
       "int"
      ]
     },
     "execution_count": 2,
     "metadata": {},
     "output_type": "execute_result"
    }
   ],
   "source": [
    "type(a)"
   ]
  },
  {
   "cell_type": "code",
   "execution_count": 3,
   "id": "a6fb78ba",
   "metadata": {},
   "outputs": [],
   "source": [
    "b = 1.7 #pembedanya titik(decimal point)"
   ]
  },
  {
   "cell_type": "code",
   "execution_count": 4,
   "id": "fe002508",
   "metadata": {},
   "outputs": [
    {
     "data": {
      "text/plain": [
       "float"
      ]
     },
     "execution_count": 4,
     "metadata": {},
     "output_type": "execute_result"
    }
   ],
   "source": [
    "type(b)"
   ]
  },
  {
   "cell_type": "markdown",
   "id": "c9bfda63",
   "metadata": {},
   "source": [
    "Task 1"
   ]
  },
  {
   "cell_type": "code",
   "execution_count": 6,
   "id": "47b3a4ef",
   "metadata": {},
   "outputs": [],
   "source": [
    "#int\n",
    "a = 50"
   ]
  },
  {
   "cell_type": "code",
   "execution_count": 7,
   "id": "e228b980",
   "metadata": {},
   "outputs": [
    {
     "data": {
      "text/plain": [
       "int"
      ]
     },
     "execution_count": 7,
     "metadata": {},
     "output_type": "execute_result"
    }
   ],
   "source": [
    "type(a)"
   ]
  },
  {
   "cell_type": "code",
   "execution_count": 8,
   "id": "6d75ba98",
   "metadata": {},
   "outputs": [],
   "source": [
    "#float\n",
    "b = 3.5"
   ]
  },
  {
   "cell_type": "code",
   "execution_count": 9,
   "id": "3044922f",
   "metadata": {},
   "outputs": [
    {
     "data": {
      "text/plain": [
       "float"
      ]
     },
     "execution_count": 9,
     "metadata": {},
     "output_type": "execute_result"
    }
   ],
   "source": [
    "type(b)"
   ]
  },
  {
   "cell_type": "code",
   "execution_count": 3,
   "id": "8739691c",
   "metadata": {},
   "outputs": [],
   "source": [
    "#complex\n",
    "c = 1+3j"
   ]
  },
  {
   "cell_type": "code",
   "execution_count": 4,
   "id": "f8888666",
   "metadata": {},
   "outputs": [
    {
     "data": {
      "text/plain": [
       "complex"
      ]
     },
     "execution_count": 4,
     "metadata": {},
     "output_type": "execute_result"
    }
   ],
   "source": [
    "type(c)"
   ]
  },
  {
   "cell_type": "markdown",
   "id": "40241aeb",
   "metadata": {},
   "source": [
    "2. String"
   ]
  },
  {
   "cell_type": "code",
   "execution_count": 8,
   "id": "af69f2de",
   "metadata": {},
   "outputs": [],
   "source": [
    "a = \"Hello World\""
   ]
  },
  {
   "cell_type": "code",
   "execution_count": 6,
   "id": "a0ba358e",
   "metadata": {},
   "outputs": [
    {
     "name": "stdout",
     "output_type": "stream",
     "text": [
      "Hello World\n"
     ]
    }
   ],
   "source": [
    "print(a)"
   ]
  },
  {
   "cell_type": "code",
   "execution_count": 7,
   "id": "d6012c4f",
   "metadata": {},
   "outputs": [
    {
     "data": {
      "text/plain": [
       "str"
      ]
     },
     "execution_count": 7,
     "metadata": {},
     "output_type": "execute_result"
    }
   ],
   "source": [
    "type(a)"
   ]
  },
  {
   "cell_type": "code",
   "execution_count": 9,
   "id": "68a453cd",
   "metadata": {},
   "outputs": [],
   "source": [
    "a = 'Hello World'"
   ]
  },
  {
   "cell_type": "code",
   "execution_count": 10,
   "id": "5a4751a0",
   "metadata": {},
   "outputs": [
    {
     "name": "stdout",
     "output_type": "stream",
     "text": [
      "Hello World\n"
     ]
    }
   ],
   "source": [
    "print(a)"
   ]
  },
  {
   "cell_type": "code",
   "execution_count": 11,
   "id": "77511e8a",
   "metadata": {},
   "outputs": [],
   "source": [
    "a = \"\"\"Bootcamp Data Scientist.\n",
    "Kampus Merdeka X MyEduSolve\n",
    "Kelas D.\"\"\""
   ]
  },
  {
   "cell_type": "code",
   "execution_count": 12,
   "id": "7db9c240",
   "metadata": {},
   "outputs": [
    {
     "name": "stdout",
     "output_type": "stream",
     "text": [
      "Bootcamp Data Scientist.\n",
      "Kampus Merdeka X MyEduSolve\n",
      "Kelas D.\n"
     ]
    }
   ],
   "source": [
    "print(a)"
   ]
  },
  {
   "cell_type": "code",
   "execution_count": 17,
   "id": "7108ab1b",
   "metadata": {},
   "outputs": [],
   "source": [
    "b = 'Bootcamp Data Scientist. \\nKampus Merdeka X MyEduSolve. \\nKelas D.'"
   ]
  },
  {
   "cell_type": "code",
   "execution_count": 18,
   "id": "93cb3b22",
   "metadata": {},
   "outputs": [
    {
     "name": "stdout",
     "output_type": "stream",
     "text": [
      "Bootcamp Data Scientist. \n",
      "Kampus Merdeka X MyEduSolve. \n",
      "Kelas D.\n"
     ]
    }
   ],
   "source": [
    "print(b)"
   ]
  },
  {
   "cell_type": "markdown",
   "id": "890b1ff4",
   "metadata": {},
   "source": [
    "Task 3"
   ]
  },
  {
   "cell_type": "code",
   "execution_count": 21,
   "id": "94918cc9",
   "metadata": {},
   "outputs": [],
   "source": [
    "a = 'Senin, 18 September 2023'"
   ]
  },
  {
   "cell_type": "code",
   "execution_count": 22,
   "id": "2c766666",
   "metadata": {},
   "outputs": [
    {
     "name": "stdout",
     "output_type": "stream",
     "text": [
      "Senin, 18 September 2023\n"
     ]
    }
   ],
   "source": [
    "print(a)"
   ]
  },
  {
   "cell_type": "code",
   "execution_count": 23,
   "id": "4a90e7b4",
   "metadata": {},
   "outputs": [],
   "source": [
    "b = '''Data Analyst Group 3\n",
    "MyEduSolve\n",
    "Week 5 - Day 1\n",
    "Data Type'''"
   ]
  },
  {
   "cell_type": "code",
   "execution_count": 24,
   "id": "75d24079",
   "metadata": {},
   "outputs": [
    {
     "name": "stdout",
     "output_type": "stream",
     "text": [
      "Data Analyst Group 3\n",
      "MyEduSolve\n",
      "Week 5 - Day 1\n",
      "Data Type\n"
     ]
    }
   ],
   "source": [
    "print(b)"
   ]
  },
  {
   "cell_type": "code",
   "execution_count": 26,
   "id": "6cae4f39",
   "metadata": {},
   "outputs": [],
   "source": [
    "c = 'Data Analyst Group 3 \\nMyEduSolve \\nWeek 5 - Day 1 \\nData Type'"
   ]
  },
  {
   "cell_type": "code",
   "execution_count": 27,
   "id": "91205278",
   "metadata": {},
   "outputs": [
    {
     "name": "stdout",
     "output_type": "stream",
     "text": [
      "Data Analyst Group 3 \n",
      "MyEduSolve \n",
      "Week 5 - Day 1 \n",
      "Data Type\n"
     ]
    }
   ],
   "source": [
    "print(c)"
   ]
  },
  {
   "cell_type": "markdown",
   "id": "be721aa2",
   "metadata": {},
   "source": [
    "3. Boolean (true or false)"
   ]
  },
  {
   "cell_type": "code",
   "execution_count": 28,
   "id": "c3331348",
   "metadata": {},
   "outputs": [
    {
     "data": {
      "text/plain": [
       "False"
      ]
     },
     "execution_count": 28,
     "metadata": {},
     "output_type": "execute_result"
    }
   ],
   "source": [
    "2 > 5"
   ]
  },
  {
   "cell_type": "code",
   "execution_count": 29,
   "id": "a3239cb7",
   "metadata": {},
   "outputs": [
    {
     "data": {
      "text/plain": [
       "False"
      ]
     },
     "execution_count": 29,
     "metadata": {},
     "output_type": "execute_result"
    }
   ],
   "source": [
    "2 == 5"
   ]
  },
  {
   "cell_type": "code",
   "execution_count": 30,
   "id": "6cc43143",
   "metadata": {},
   "outputs": [
    {
     "data": {
      "text/plain": [
       "True"
      ]
     },
     "execution_count": 30,
     "metadata": {},
     "output_type": "execute_result"
    }
   ],
   "source": [
    "2 <= 2"
   ]
  },
  {
   "cell_type": "code",
   "execution_count": 31,
   "id": "2c62fcc4",
   "metadata": {},
   "outputs": [
    {
     "data": {
      "text/plain": [
       "True"
      ]
     },
     "execution_count": 31,
     "metadata": {},
     "output_type": "execute_result"
    }
   ],
   "source": [
    "2 != 3"
   ]
  },
  {
   "cell_type": "markdown",
   "id": "f2463705",
   "metadata": {},
   "source": [
    "Task 4"
   ]
  },
  {
   "cell_type": "code",
   "execution_count": 36,
   "id": "57b1e2ec",
   "metadata": {},
   "outputs": [
    {
     "data": {
      "text/plain": [
       "False"
      ]
     },
     "execution_count": 36,
     "metadata": {},
     "output_type": "execute_result"
    }
   ],
   "source": [
    "360 < 335"
   ]
  },
  {
   "cell_type": "code",
   "execution_count": 37,
   "id": "27053ba6",
   "metadata": {},
   "outputs": [
    {
     "data": {
      "text/plain": [
       "False"
      ]
     },
     "execution_count": 37,
     "metadata": {},
     "output_type": "execute_result"
    }
   ],
   "source": [
    "'String' == 'string'"
   ]
  },
  {
   "cell_type": "code",
   "execution_count": 41,
   "id": "2ca52d9a",
   "metadata": {},
   "outputs": [
    {
     "data": {
      "text/plain": [
       "True"
      ]
     },
     "execution_count": 41,
     "metadata": {},
     "output_type": "execute_result"
    }
   ],
   "source": [
    "52 <= 57"
   ]
  },
  {
   "cell_type": "code",
   "execution_count": 39,
   "id": "36c31696",
   "metadata": {
    "scrolled": true
   },
   "outputs": [
    {
     "data": {
      "text/plain": [
       "False"
      ]
     },
     "execution_count": 39,
     "metadata": {},
     "output_type": "execute_result"
    }
   ],
   "source": [
    "7 != 7"
   ]
  }
 ],
 "metadata": {
  "kernelspec": {
   "display_name": "Python 3 (ipykernel)",
   "language": "python",
   "name": "python3"
  },
  "language_info": {
   "codemirror_mode": {
    "name": "ipython",
    "version": 3
   },
   "file_extension": ".py",
   "mimetype": "text/x-python",
   "name": "python",
   "nbconvert_exporter": "python",
   "pygments_lexer": "ipython3",
   "version": "3.9.13"
  }
 },
 "nbformat": 4,
 "nbformat_minor": 5
}
