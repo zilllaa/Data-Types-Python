{
 "cells": [
  {
   "cell_type": "markdown",
   "id": "3017f725",
   "metadata": {},
   "source": [
    "#  Slicing"
   ]
  },
  {
   "cell_type": "markdown",
   "id": "4658dfd0",
   "metadata": {},
   "source": [
    "You can return a range of characters by using the slice syntax.\n",
    "\n",
    "Specify the start index and the end index, separated by a colon, to return a part of the string."
   ]
  },
  {
   "cell_type": "code",
   "execution_count": 1,
   "id": "726bd924",
   "metadata": {},
   "outputs": [],
   "source": [
    "a =\"Data Science\""
   ]
  },
  {
   "cell_type": "code",
   "execution_count": 2,
   "id": "dc7b6517",
   "metadata": {},
   "outputs": [
    {
     "name": "stdout",
     "output_type": "stream",
     "text": [
      "t\n"
     ]
    }
   ],
   "source": [
    "print(a[2])\n",
    "\n",
    "#Retrieving elements at index 2"
   ]
  },
  {
   "cell_type": "code",
   "execution_count": 3,
   "id": "a05078e6",
   "metadata": {},
   "outputs": [
    {
     "name": "stdout",
     "output_type": "stream",
     "text": [
      "Science\n"
     ]
    }
   ],
   "source": [
    "print(a[5:12])\n",
    "\n",
    "#Retrieving elements between index 5 dan 12 (not included)"
   ]
  },
  {
   "cell_type": "code",
   "execution_count": 4,
   "id": "f3900f6c",
   "metadata": {},
   "outputs": [
    {
     "ename": "NameError",
     "evalue": "name 'o' is not defined",
     "output_type": "error",
     "traceback": [
      "\u001b[1;31m---------------------------------------------------------------------------\u001b[0m",
      "\u001b[1;31mNameError\u001b[0m                                 Traceback (most recent call last)",
      "Cell \u001b[1;32mIn[4], line 1\u001b[0m\n\u001b[1;32m----> 1\u001b[0m a[\u001b[38;5;241m3\u001b[39m]\u001b[38;5;241m=\u001b[39mo\n",
      "\u001b[1;31mNameError\u001b[0m: name 'o' is not defined"
     ]
    }
   ],
   "source": [
    "a[3]=o\n",
    "\n",
    "#to change the character, the form a is a string so it can't be changed"
   ]
  },
  {
   "cell_type": "code",
   "execution_count": 5,
   "id": "d78b1632",
   "metadata": {},
   "outputs": [
    {
     "name": "stdout",
     "output_type": "stream",
     "text": [
      "['a', 'b', 'c', 'd']\n"
     ]
    }
   ],
   "source": [
    "b = [\"a\",\"b\",\"c\",\"d\"] \n",
    "print(b)"
   ]
  },
  {
   "cell_type": "code",
   "execution_count": 6,
   "id": "8bcfe33c",
   "metadata": {},
   "outputs": [
    {
     "name": "stdout",
     "output_type": "stream",
     "text": [
      "['a', 'b', 'i', 'd']\n"
     ]
    }
   ],
   "source": [
    "b[2]= \"i\"\n",
    "print(b)\n",
    "\n",
    "#except if it is a string then it can be changed by one element"
   ]
  },
  {
   "cell_type": "markdown",
   "id": "c1bb2c07",
   "metadata": {},
   "source": [
    "Task"
   ]
  },
  {
   "cell_type": "code",
   "execution_count": 7,
   "id": "42593e8e",
   "metadata": {},
   "outputs": [],
   "source": [
    "c = \"Data Analyst\""
   ]
  },
  {
   "cell_type": "code",
   "execution_count": 8,
   "id": "d1f96216",
   "metadata": {},
   "outputs": [
    {
     "name": "stdout",
     "output_type": "stream",
     "text": [
      "A\n"
     ]
    }
   ],
   "source": [
    "print(c[5])"
   ]
  },
  {
   "cell_type": "code",
   "execution_count": 9,
   "id": "0b398de2",
   "metadata": {},
   "outputs": [
    {
     "name": "stdout",
     "output_type": "stream",
     "text": [
      "Data\n"
     ]
    }
   ],
   "source": [
    "print(c[:4])"
   ]
  },
  {
   "cell_type": "code",
   "execution_count": 10,
   "id": "2b988f0f",
   "metadata": {},
   "outputs": [],
   "source": [
    "d = [\"A\",\"B\",\"C\",\"E\"]"
   ]
  },
  {
   "cell_type": "code",
   "execution_count": 11,
   "id": "1b7b1575",
   "metadata": {},
   "outputs": [
    {
     "name": "stdout",
     "output_type": "stream",
     "text": [
      "['A', 'B', 'C', 'D']\n"
     ]
    }
   ],
   "source": [
    "d[3]=\"D\"\n",
    "print(d)"
   ]
  }
 ],
 "metadata": {
  "kernelspec": {
   "display_name": "Python 3 (ipykernel)",
   "language": "python",
   "name": "python3"
  },
  "language_info": {
   "codemirror_mode": {
    "name": "ipython",
    "version": 3
   },
   "file_extension": ".py",
   "mimetype": "text/x-python",
   "name": "python",
   "nbconvert_exporter": "python",
   "pygments_lexer": "ipython3",
   "version": "3.11.4"
  }
 },
 "nbformat": 4,
 "nbformat_minor": 5
}
